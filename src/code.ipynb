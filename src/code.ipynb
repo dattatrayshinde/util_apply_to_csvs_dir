{
 "cells": [
  {
   "cell_type": "code",
   "execution_count": 74,
   "id": "77d75ad9",
   "metadata": {},
   "outputs": [],
   "source": [
    "#IMPORT\n",
    "import glob\n",
    "import os\n",
    "import pandas as pd\n",
    "import math"
   ]
  },
  {
   "cell_type": "code",
   "execution_count": 75,
   "id": "e17a4e1e",
   "metadata": {},
   "outputs": [],
   "source": [
    "#CONFIG\n",
    "ddir = '../data'\n",
    "uddir = '../data_updated'\n",
    "header_list1 = [\"ra\",\"rc\",\"T\"]\n",
    "header_list2 = [\"ra\",\"rc\",\"l\",\"T1\",\"T\"]"
   ]
  },
  {
   "cell_type": "code",
   "execution_count": 76,
   "id": "fa96192f",
   "metadata": {
    "scrolled": true
   },
   "outputs": [
    {
     "name": "stdout",
     "output_type": "stream",
     "text": [
      "Process has been completed successfully...!\n"
     ]
    }
   ],
   "source": [
    "for filename in glob.glob(os.path.join(ddir, '*.csv')):\n",
    "    with open(os.path.join(os.getcwd(), filename), 'r') as f: \n",
    "        filename = filename.replace(\"\\\\\", \"/\")\n",
    "        temp_df = pd.read_csv(filename,index_col=False)  \n",
    "        if(len(temp_df.columns) > 3):\n",
    "            temp_df.columns = header_list2\n",
    "        else:\n",
    "            temp_df.columns = header_list1\n",
    "        try:\n",
    "            temp_df[\"ra\"] = temp_df.ra.astype(float)\n",
    "            temp_df[\"px\"] = 2.1* (temp_df[\"ra\"])\n",
    "            temp_df[\"py\"] = math.sqrt(3)*temp_df[\"px\"]\n",
    "        except Exception as e: \n",
    "            print(e)\n",
    "            \n",
    "        tmp_filename = filename.replace(\"data\",\"data_updated\")\n",
    "        tmp_filename = tmp_filename.replace(\"\\\\\", \"/\")\n",
    "        temp_df.to_csv(tmp_filename,index=False)\n",
    "\n",
    "print(\"Process has been completed successfully...!\")"
   ]
  }
 ],
 "metadata": {
  "kernelspec": {
   "display_name": "Python 3",
   "language": "python",
   "name": "python3"
  },
  "language_info": {
   "codemirror_mode": {
    "name": "ipython",
    "version": 3
   },
   "file_extension": ".py",
   "mimetype": "text/x-python",
   "name": "python",
   "nbconvert_exporter": "python",
   "pygments_lexer": "ipython3",
   "version": "3.8.8"
  }
 },
 "nbformat": 4,
 "nbformat_minor": 5
}
